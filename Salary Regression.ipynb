{
 "cells": [
  {
   "cell_type": "code",
   "execution_count": 3,
   "metadata": {},
   "outputs": [],
   "source": [
    "# Importing the necessary packages.\n",
    "import pandas as pd\n",
    "import numpy as np\n",
    "import seaborn as sns\n",
    "import matplotlib.pyplot as plt\n",
    "from sklearn.model_selection import train_test_split\n",
    "from sklearn.linear_model import LinearRegression\n",
    "reg = LinearRegression()\n"
   ]
  },
  {
   "cell_type": "code",
   "execution_count": 4,
   "metadata": {},
   "outputs": [
    {
     "data": {
      "text/html": [
       "<div>\n",
       "<style scoped>\n",
       "    .dataframe tbody tr th:only-of-type {\n",
       "        vertical-align: middle;\n",
       "    }\n",
       "\n",
       "    .dataframe tbody tr th {\n",
       "        vertical-align: top;\n",
       "    }\n",
       "\n",
       "    .dataframe thead th {\n",
       "        text-align: right;\n",
       "    }\n",
       "</style>\n",
       "<table border=\"1\" class=\"dataframe\">\n",
       "  <thead>\n",
       "    <tr style=\"text-align: right;\">\n",
       "      <th></th>\n",
       "      <th>salary</th>\n",
       "      <th>season</th>\n",
       "      <th>Salary Cap</th>\n",
       "      <th>% of Salary Cap</th>\n",
       "      <th>career_AST</th>\n",
       "      <th>career_FG%</th>\n",
       "      <th>career_FG3%</th>\n",
       "      <th>career_FT%</th>\n",
       "      <th>career_G</th>\n",
       "      <th>career_PTS</th>\n",
       "    </tr>\n",
       "  </thead>\n",
       "  <tbody>\n",
       "    <tr>\n",
       "      <th>0</th>\n",
       "      <td>395000.0</td>\n",
       "      <td>1990-91</td>\n",
       "      <td>11871000.0</td>\n",
       "      <td>0.033274</td>\n",
       "      <td>0.3</td>\n",
       "      <td>50.2</td>\n",
       "      <td>0.0</td>\n",
       "      <td>70.1</td>\n",
       "      <td>256</td>\n",
       "      <td>5.7</td>\n",
       "    </tr>\n",
       "    <tr>\n",
       "      <th>1</th>\n",
       "      <td>494000.0</td>\n",
       "      <td>1991-92</td>\n",
       "      <td>12500000.0</td>\n",
       "      <td>0.039520</td>\n",
       "      <td>0.3</td>\n",
       "      <td>50.2</td>\n",
       "      <td>0.0</td>\n",
       "      <td>70.1</td>\n",
       "      <td>256</td>\n",
       "      <td>5.7</td>\n",
       "    </tr>\n",
       "    <tr>\n",
       "      <th>2</th>\n",
       "      <td>500000.0</td>\n",
       "      <td>1992-93</td>\n",
       "      <td>14000000.0</td>\n",
       "      <td>0.035714</td>\n",
       "      <td>0.3</td>\n",
       "      <td>50.2</td>\n",
       "      <td>0.0</td>\n",
       "      <td>70.1</td>\n",
       "      <td>256</td>\n",
       "      <td>5.7</td>\n",
       "    </tr>\n",
       "    <tr>\n",
       "      <th>3</th>\n",
       "      <td>805000.0</td>\n",
       "      <td>1993-94</td>\n",
       "      <td>15175000.0</td>\n",
       "      <td>0.053048</td>\n",
       "      <td>0.3</td>\n",
       "      <td>50.2</td>\n",
       "      <td>0.0</td>\n",
       "      <td>70.1</td>\n",
       "      <td>256</td>\n",
       "      <td>5.7</td>\n",
       "    </tr>\n",
       "    <tr>\n",
       "      <th>4</th>\n",
       "      <td>650000.0</td>\n",
       "      <td>1994-95</td>\n",
       "      <td>15964000.0</td>\n",
       "      <td>0.040717</td>\n",
       "      <td>0.3</td>\n",
       "      <td>50.2</td>\n",
       "      <td>0.0</td>\n",
       "      <td>70.1</td>\n",
       "      <td>256</td>\n",
       "      <td>5.7</td>\n",
       "    </tr>\n",
       "  </tbody>\n",
       "</table>\n",
       "</div>"
      ],
      "text/plain": [
       "     salary   season  Salary Cap  % of Salary Cap  career_AST  career_FG%  \\\n",
       "0  395000.0  1990-91  11871000.0         0.033274         0.3        50.2   \n",
       "1  494000.0  1991-92  12500000.0         0.039520         0.3        50.2   \n",
       "2  500000.0  1992-93  14000000.0         0.035714         0.3        50.2   \n",
       "3  805000.0  1993-94  15175000.0         0.053048         0.3        50.2   \n",
       "4  650000.0  1994-95  15964000.0         0.040717         0.3        50.2   \n",
       "\n",
       "   career_FG3%  career_FT%  career_G  career_PTS  \n",
       "0          0.0        70.1       256         5.7  \n",
       "1          0.0        70.1       256         5.7  \n",
       "2          0.0        70.1       256         5.7  \n",
       "3          0.0        70.1       256         5.7  \n",
       "4          0.0        70.1       256         5.7  "
      ]
     },
     "execution_count": 4,
     "metadata": {},
     "output_type": "execute_result"
    }
   ],
   "source": [
    "# Imported players stats and salaries.\n",
    "stats = pd.read_csv('prepared_plyrs_stats.csv', index_col=0)\n",
    "\n",
    "stats.head()"
   ]
  },
  {
   "cell_type": "code",
   "execution_count": 5,
   "metadata": {},
   "outputs": [
    {
     "data": {
      "text/plain": [
       "<function matplotlib.pyplot.show(close=None, block=None)>"
      ]
     },
     "execution_count": 5,
     "metadata": {},
     "output_type": "execute_result"
    },
    {
     "data": {
      "image/png": "[encoded data removed]",
      "text/plain": [
       "<Figure size 864x432 with 1 Axes>"
      ]
     },
     "metadata": {
      "needs_background": "light"
     },
     "output_type": "display_data"
    }
   ],
   "source": [
    "# Created a bar chart showing how much the average player's salary has increased over the years. \n",
    "plt.figure(figsize=(12,6))\n",
    "stats_chart = stats.groupby('season', as_index=False)['salary'].mean()\n",
    "chart = sns.barplot(data=stats_chart, x='season', y='salary')\n",
    "chart.set_xticklabels(chart.get_xticklabels(), rotation=45, horizontalalignment='right')\n",
    "plt.ticklabel_format(style='plain', axis='y')\n",
    "plt.title('Average NBA Salaries per Year (1984-2018)')\n",
    "plt.show"
   ]
  },
  {
   "cell_type": "code",
   "execution_count": 6,
   "metadata": {},
   "outputs": [],
   "source": [
    "# This chart tells us that we need to take into account players today are being paid a significant more today than\n",
    "# they were compared to 1984-85. "
   ]
  },
  {
   "cell_type": "code",
   "execution_count": 7,
   "metadata": {},
   "outputs": [
    {
     "data": {
      "text/html": [
       "<div>\n",
       "<style scoped>\n",
       "    .dataframe tbody tr th:only-of-type {\n",
       "        vertical-align: middle;\n",
       "    }\n",
       "\n",
       "    .dataframe tbody tr th {\n",
       "        vertical-align: top;\n",
       "    }\n",
       "\n",
       "    .dataframe thead th {\n",
       "        text-align: right;\n",
       "    }\n",
       "</style>\n",
       "<table border=\"1\" class=\"dataframe\">\n",
       "  <thead>\n",
       "    <tr style=\"text-align: right;\">\n",
       "      <th></th>\n",
       "      <th>% of Salary Cap</th>\n",
       "      <th>career_AST</th>\n",
       "      <th>career_FG%</th>\n",
       "      <th>career_FG3%</th>\n",
       "      <th>career_FT%</th>\n",
       "      <th>career_G</th>\n",
       "      <th>career_PTS</th>\n",
       "    </tr>\n",
       "  </thead>\n",
       "  <tbody>\n",
       "    <tr>\n",
       "      <th>count</th>\n",
       "      <td>13626.000000</td>\n",
       "      <td>13626.000000</td>\n",
       "      <td>13626.000000</td>\n",
       "      <td>13626.000000</td>\n",
       "      <td>13626.000000</td>\n",
       "      <td>13626.000000</td>\n",
       "      <td>13626.000000</td>\n",
       "    </tr>\n",
       "    <tr>\n",
       "      <th>mean</th>\n",
       "      <td>0.079084</td>\n",
       "      <td>2.086966</td>\n",
       "      <td>45.239960</td>\n",
       "      <td>26.507383</td>\n",
       "      <td>73.797696</td>\n",
       "      <td>615.134229</td>\n",
       "      <td>9.360238</td>\n",
       "    </tr>\n",
       "    <tr>\n",
       "      <th>std</th>\n",
       "      <td>0.082294</td>\n",
       "      <td>1.718539</td>\n",
       "      <td>5.049756</td>\n",
       "      <td>12.985517</td>\n",
       "      <td>9.455846</td>\n",
       "      <td>344.978096</td>\n",
       "      <td>5.062386</td>\n",
       "    </tr>\n",
       "    <tr>\n",
       "      <th>min</th>\n",
       "      <td>0.000047</td>\n",
       "      <td>0.000000</td>\n",
       "      <td>0.000000</td>\n",
       "      <td>0.000000</td>\n",
       "      <td>0.000000</td>\n",
       "      <td>1.000000</td>\n",
       "      <td>0.000000</td>\n",
       "    </tr>\n",
       "    <tr>\n",
       "      <th>25%</th>\n",
       "      <td>0.020593</td>\n",
       "      <td>0.800000</td>\n",
       "      <td>42.200000</td>\n",
       "      <td>19.100000</td>\n",
       "      <td>69.200000</td>\n",
       "      <td>341.000000</td>\n",
       "      <td>5.500000</td>\n",
       "    </tr>\n",
       "    <tr>\n",
       "      <th>50%</th>\n",
       "      <td>0.051685</td>\n",
       "      <td>1.600000</td>\n",
       "      <td>45.000000</td>\n",
       "      <td>31.400000</td>\n",
       "      <td>75.300000</td>\n",
       "      <td>618.000000</td>\n",
       "      <td>8.400000</td>\n",
       "    </tr>\n",
       "    <tr>\n",
       "      <th>75%</th>\n",
       "      <td>0.110269</td>\n",
       "      <td>2.800000</td>\n",
       "      <td>48.400000</td>\n",
       "      <td>35.600000</td>\n",
       "      <td>80.200000</td>\n",
       "      <td>858.000000</td>\n",
       "      <td>12.500000</td>\n",
       "    </tr>\n",
       "    <tr>\n",
       "      <th>max</th>\n",
       "      <td>1.237122</td>\n",
       "      <td>11.200000</td>\n",
       "      <td>67.000000</td>\n",
       "      <td>100.000000</td>\n",
       "      <td>100.000000</td>\n",
       "      <td>1611.000000</td>\n",
       "      <td>30.100000</td>\n",
       "    </tr>\n",
       "  </tbody>\n",
       "</table>\n",
       "</div>"
      ],
      "text/plain": [
       "       % of Salary Cap    career_AST    career_FG%   career_FG3%  \\\n",
       "count     13626.000000  13626.000000  13626.000000  13626.000000   \n",
       "mean          0.079084      2.086966     45.239960     26.507383   \n",
       "std           0.082294      1.718539      5.049756     12.985517   \n",
       "min           0.000047      0.000000      0.000000      0.000000   \n",
       "25%           0.020593      0.800000     42.200000     19.100000   \n",
       "50%           0.051685      1.600000     45.000000     31.400000   \n",
       "75%           0.110269      2.800000     48.400000     35.600000   \n",
       "max           1.237122     11.200000     67.000000    100.000000   \n",
       "\n",
       "         career_FT%      career_G    career_PTS  \n",
       "count  13626.000000  13626.000000  13626.000000  \n",
       "mean      73.797696    615.134229      9.360238  \n",
       "std        9.455846    344.978096      5.062386  \n",
       "min        0.000000      1.000000      0.000000  \n",
       "25%       69.200000    341.000000      5.500000  \n",
       "50%       75.300000    618.000000      8.400000  \n",
       "75%       80.200000    858.000000     12.500000  \n",
       "max      100.000000   1611.000000     30.100000  "
      ]
     },
     "execution_count": 7,
     "metadata": {},
     "output_type": "execute_result"
    }
   ],
   "source": [
    "# Forgot to drop out the two columns.\n",
    "stats = stats.drop(['Salary Cap'], axis = 1)\n",
    "stats = stats.drop(['salary'], axis = 1)\n",
    "# Printed out statistics about the dataset.\n",
    "stats.describe()\n"
   ]
  },
  {
   "cell_type": "code",
   "execution_count": 8,
   "metadata": {},
   "outputs": [
    {
     "data": {
      "image/png": "[encoded data removed]",
      "text/plain": [
       "<Figure size 432x288 with 2 Axes>"
      ]
     },
     "metadata": {
      "needs_background": "light"
     },
     "output_type": "display_data"
    }
   ],
   "source": [
    "# Used a correlation heatmap to take a look at which variables correlate the strongest with % of salary cap. \n",
    "heatmap = sns.heatmap(stats.corr(), annot=True)"
   ]
  },
  {
   "cell_type": "code",
   "execution_count": 9,
   "metadata": {},
   "outputs": [],
   "source": [
    "# Forgot to drop another column.\n",
    "stats = stats.drop(['season'], axis = 1)"
   ]
  },
  {
   "cell_type": "code",
   "execution_count": 10,
   "metadata": {},
   "outputs": [],
   "source": [
    "# Set my target (y) and my contributing variables (X)\n",
    "y = stats['% of Salary Cap']\n",
    "X = stats.drop(['% of Salary Cap'], axis=1)"
   ]
  },
  {
   "cell_type": "code",
   "execution_count": 11,
   "metadata": {},
   "outputs": [],
   "source": [
    "# Used train_test_split to break apart my target and variables into a train and test set. \n",
    "X_train, X_test, y_train, y_test = train_test_split(X, y, train_size=0.70, test_size=0.30, random_state=2)"
   ]
  },
  {
   "cell_type": "code",
   "execution_count": 12,
   "metadata": {},
   "outputs": [
    {
     "data": {
      "text/plain": [
       "LinearRegression()"
      ]
     },
     "execution_count": 12,
     "metadata": {},
     "output_type": "execute_result"
    }
   ],
   "source": [
    "# Fit the training set to a Linear Regression model.\n",
    "reg.fit(X_train, y_train)"
   ]
  },
  {
   "cell_type": "code",
   "execution_count": 13,
   "metadata": {},
   "outputs": [
    {
     "data": {
      "text/html": [
       "<div>\n",
       "<style scoped>\n",
       "    .dataframe tbody tr th:only-of-type {\n",
       "        vertical-align: middle;\n",
       "    }\n",
       "\n",
       "    .dataframe tbody tr th {\n",
       "        vertical-align: top;\n",
       "    }\n",
       "\n",
       "    .dataframe thead th {\n",
       "        text-align: right;\n",
       "    }\n",
       "</style>\n",
       "<table border=\"1\" class=\"dataframe\">\n",
       "  <thead>\n",
       "    <tr style=\"text-align: right;\">\n",
       "      <th></th>\n",
       "      <th>Actual</th>\n",
       "      <th>Predicted</th>\n",
       "    </tr>\n",
       "  </thead>\n",
       "  <tbody>\n",
       "    <tr>\n",
       "      <th>2204</th>\n",
       "      <td>0.134666</td>\n",
       "      <td>0.143685</td>\n",
       "    </tr>\n",
       "    <tr>\n",
       "      <th>6147</th>\n",
       "      <td>0.021387</td>\n",
       "      <td>0.088952</td>\n",
       "    </tr>\n",
       "    <tr>\n",
       "      <th>13893</th>\n",
       "      <td>0.003969</td>\n",
       "      <td>0.030620</td>\n",
       "    </tr>\n",
       "    <tr>\n",
       "      <th>7517</th>\n",
       "      <td>0.280298</td>\n",
       "      <td>0.137716</td>\n",
       "    </tr>\n",
       "    <tr>\n",
       "      <th>514</th>\n",
       "      <td>0.013011</td>\n",
       "      <td>0.073201</td>\n",
       "    </tr>\n",
       "    <tr>\n",
       "      <th>...</th>\n",
       "      <td>...</td>\n",
       "      <td>...</td>\n",
       "    </tr>\n",
       "    <tr>\n",
       "      <th>13755</th>\n",
       "      <td>0.040000</td>\n",
       "      <td>0.072524</td>\n",
       "    </tr>\n",
       "    <tr>\n",
       "      <th>9998</th>\n",
       "      <td>0.084554</td>\n",
       "      <td>0.138656</td>\n",
       "    </tr>\n",
       "    <tr>\n",
       "      <th>7973</th>\n",
       "      <td>0.148962</td>\n",
       "      <td>0.148532</td>\n",
       "    </tr>\n",
       "    <tr>\n",
       "      <th>1559</th>\n",
       "      <td>0.050698</td>\n",
       "      <td>0.085900</td>\n",
       "    </tr>\n",
       "    <tr>\n",
       "      <th>1453</th>\n",
       "      <td>0.016087</td>\n",
       "      <td>0.033646</td>\n",
       "    </tr>\n",
       "  </tbody>\n",
       "</table>\n",
       "<p>4088 rows × 2 columns</p>\n",
       "</div>"
      ],
      "text/plain": [
       "         Actual  Predicted\n",
       "2204   0.134666   0.143685\n",
       "6147   0.021387   0.088952\n",
       "13893  0.003969   0.030620\n",
       "7517   0.280298   0.137716\n",
       "514    0.013011   0.073201\n",
       "...         ...        ...\n",
       "13755  0.040000   0.072524\n",
       "9998   0.084554   0.138656\n",
       "7973   0.148962   0.148532\n",
       "1559   0.050698   0.085900\n",
       "1453   0.016087   0.033646\n",
       "\n",
       "[4088 rows x 2 columns]"
      ]
     },
     "execution_count": 13,
     "metadata": {},
     "output_type": "execute_result"
    }
   ],
   "source": [
    "# Used that model to try and predict the X_test variables. \n",
    "y_pred = reg.predict(X_test)\n",
    "\n",
    "# Created a simple dataframe to compare the actual y values and the predicted y values. \n",
    "compare = pd.DataFrame({'Actual': y_test, 'Predicted':y_pred})\n",
    "compare"
   ]
  },
  {
   "cell_type": "code",
   "execution_count": 16,
   "metadata": {},
   "outputs": [
    {
     "name": "stdout",
     "output_type": "stream",
     "text": [
      "MAE: 0.04422569210199696\n",
      "MSE: 0.003936022174388668\n",
      "RMSE: 0.0627377252886066\n"
     ]
    }
   ],
   "source": [
    "# Calculated the MAE, MSE, and RMSE here. \n",
    "\n",
    "from sklearn import metrics\n",
    "print('MAE:', metrics.mean_absolute_error(y_pred, y_test))\n",
    "print('MSE:', metrics.mean_squared_error(y_pred, y_test))\n",
    "print('RMSE:', np.sqrt(metrics.mean_squared_error(y_pred, y_test)))\n"
   ]
  },
  {
   "cell_type": "markdown",
   "metadata": {},
   "source": [
    "# OLS Regression"
   ]
  },
  {
   "cell_type": "code",
   "execution_count": 53,
   "metadata": {},
   "outputs": [],
   "source": [
    "# Imported Statsmodels.api to look into an OLS regression\n",
    "import statsmodels.api as sm"
   ]
  },
  {
   "cell_type": "code",
   "execution_count": 54,
   "metadata": {},
   "outputs": [],
   "source": [
    "x1 = sm.add_constant(X)"
   ]
  },
  {
   "cell_type": "code",
   "execution_count": 55,
   "metadata": {},
   "outputs": [],
   "source": [
    "# Fit the model to an OLS regression.\n",
    "result = sm.OLS(y, x1).fit()"
   ]
  },
  {
   "cell_type": "code",
   "execution_count": 56,
   "metadata": {},
   "outputs": [
    {
     "name": "stdout",
     "output_type": "stream",
     "text": [
      "                            OLS Regression Results                            \n",
      "==============================================================================\n",
      "Dep. Variable:        % of Salary Cap   R-squared:                       0.420\n",
      "Model:                            OLS   Adj. R-squared:                  0.420\n",
      "Method:                 Least Squares   F-statistic:                     1645.\n",
      "Date:                Wed, 22 Mar 2023   Prob (F-statistic):               0.00\n",
      "Time:                        15:08:04   Log-Likelihood:                 18410.\n",
      "No. Observations:               13626   AIC:                        -3.681e+04\n",
      "Df Residuals:                   13619   BIC:                        -3.675e+04\n",
      "Df Model:                           6                                         \n",
      "Covariance Type:            nonrobust                                         \n",
      "===============================================================================\n",
      "                  coef    std err          t      P>|t|      [0.025      0.975]\n",
      "-------------------------------------------------------------------------------\n",
      "const           0.0451      0.008      5.623      0.000       0.029       0.061\n",
      "career_AST     -0.0004      0.000     -0.872      0.383      -0.001       0.000\n",
      "career_FG%  -6.887e-05      0.000     -0.526      0.599      -0.000       0.000\n",
      "career_FG3%    -0.0006   5.11e-05    -11.279      0.000      -0.001      -0.000\n",
      "career_FT%     -0.0008   7.11e-05    -11.434      0.000      -0.001      -0.001\n",
      "career_G     5.233e-05   2.09e-06     25.044      0.000    4.82e-05    5.64e-05\n",
      "career_PTS      0.0086      0.000     53.963      0.000       0.008       0.009\n",
      "==============================================================================\n",
      "Omnibus:                     5772.202   Durbin-Watson:                   0.741\n",
      "Prob(Omnibus):                  0.000   Jarque-Bera (JB):            98402.861\n",
      "Skew:                           1.593   Prob(JB):                         0.00\n",
      "Kurtosis:                      15.774   Cond. No.                     1.06e+04\n",
      "==============================================================================\n",
      "\n",
      "Notes:\n",
      "[1] Standard Errors assume that the covariance matrix of the errors is correctly specified.\n",
      "[2] The condition number is large, 1.06e+04. This might indicate that there are\n",
      "strong multicollinearity or other numerical problems.\n"
     ]
    }
   ],
   "source": [
    "# Printed out the summary. \n",
    "print(result.summary())"
   ]
  },
  {
   "cell_type": "code",
   "execution_count": null,
   "metadata": {},
   "outputs": [],
   "source": []
  }
 ],
 "metadata": {
  "kernelspec": {
   "display_name": "Python (learn-env)",
   "language": "python",
   "name": "learn-env"
  },
  "language_info": {
   "codemirror_mode": {
    "name": "ipython",
    "version": 3
   },
   "file_extension": ".py",
   "mimetype": "text/x-python",
   "name": "python",
   "nbconvert_exporter": "python",
   "pygments_lexer": "ipython3",
   "version": "3.8.5"
  }
 },
 "nbformat": 4,
 "nbformat_minor": 4
}
